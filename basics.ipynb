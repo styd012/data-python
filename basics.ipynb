{
 "cells": [
  {
   "cell_type": "code",
   "execution_count": null,
   "metadata": {},
   "outputs": [],
   "source": [
    "a = 2345"
   ]
  },
  {
   "cell_type": "code",
   "execution_count": null,
   "metadata": {},
   "outputs": [],
   "source": [
    "p = 100000\n",
    "r = 3.15\n",
    "t = 5\n",
    "si = p* r * t / 100\n"
   ]
  },
  {
   "cell_type": "code",
   "execution_count": 1,
   "metadata": {},
   "outputs": [],
   "source": [
    "x = 1.10\n",
    "y = 1.000\n",
    "z = -1344\n",
    "\n"
   ]
  },
  {
   "cell_type": "code",
   "execution_count": 2,
   "metadata": {},
   "outputs": [],
   "source": [
    "name = \"sumit yadav\"\n",
    "color = 'yellow'\n",
    "institute = 'digipodium'"
   ]
  },
  {
   "cell_type": "code",
   "execution_count": 3,
   "metadata": {},
   "outputs": [],
   "source": [
    "a = 23901\n",
    "b = 21.11\n",
    "c = \"string here \"\n",
    "d = True\n",
    "e  = None"
   ]
  },
  {
   "cell_type": "code",
   "execution_count": 4,
   "metadata": {},
   "outputs": [],
   "source": [
    "fruits = ['apple','banana','grapes']\n",
    "coords = (2,4,5)\n",
    "iteams = {3,5,6,7,8,1}\n",
    "emp    = {'name':'Alex','age':30}"
   ]
  },
  {
   "cell_type": "code",
   "execution_count": 5,
   "metadata": {},
   "outputs": [
    {
     "data": {
      "text/plain": [
       "False"
      ]
     },
     "execution_count": 5,
     "metadata": {},
     "output_type": "execute_result"
    }
   ],
   "source": [
    "'chestnunt' in fruits"
   ]
  },
  {
   "cell_type": "code",
   "execution_count": 6,
   "metadata": {},
   "outputs": [
    {
     "data": {
      "text/plain": [
       "False"
      ]
     },
     "execution_count": 6,
     "metadata": {},
     "output_type": "execute_result"
    }
   ],
   "source": [
    "'mango' in fruits"
   ]
  },
  {
   "cell_type": "code",
   "execution_count": 10,
   "metadata": {},
   "outputs": [],
   "source": [
    "name = input('enter your name:')\n",
    "age = int(input('enter your age:'))"
   ]
  },
  {
   "cell_type": "code",
   "execution_count": 18,
   "metadata": {},
   "outputs": [
    {
     "name": "stdout",
     "output_type": "stream",
     "text": [
      "54.0\n",
      "9164.571428571428\n"
     ]
    }
   ],
   "source": [
    "pi = 22/7\n",
    "r = float(input('entr radius:'))\n",
    "area = pi*r**2\n",
    "print(r)\n",
    "print(area)"
   ]
  },
  {
   "cell_type": "code",
   "execution_count": 21,
   "metadata": {},
   "outputs": [
    {
     "name": "stdout",
     "output_type": "stream",
     "text": [
      "a=23901b=21.11c=string here \n"
     ]
    }
   ],
   "source": [
    "# output using f-string\n",
    " print(f'a={a}b={b}c={c}')"
   ]
  },
  {
   "cell_type": "code",
   "execution_count": 22,
   "metadata": {},
   "outputs": [
    {
     "name": "stdout",
     "output_type": "stream",
     "text": [
      "23901 21.11 string here \n",
      "a = 23901 b = 21.11 c = string here \n"
     ]
    }
   ],
   "source": [
    "# comma seprated display \n",
    "print(a,b,c)\n",
    "print('a =',a, 'b =', b,'c =',c)"
   ]
  },
  {
   "cell_type": "code",
   "execution_count": 25,
   "metadata": {},
   "outputs": [
    {
     "name": "stdout",
     "output_type": "stream",
     "text": [
      "your details\n",
      "😎Name:sumit\n",
      "Favorite thing\n",
      "movie:asfddf\n",
      "food:fhg\n"
     ]
    }
   ],
   "source": [
    "name = input('Name:')\n",
    "fav_movie =input(\"favorite thing:\")\n",
    "fav_food =input(\"favorite thing:\")\n",
    "\n",
    "print('your details')\n",
    "print(f'😎Name:{name}')\n",
    "print(f'Favorite thing')\n",
    "print(f\"movie:{fav_movie}\")\n",
    "print(f\"food:{fav_food}\")\n",
    "\n"
   ]
  }
 ],
 "metadata": {
  "interpreter": {
   "hash": "1bd6ca8b58ccd030e75f457e808a1d6bc599f66c873c9cddd2e41ff599b66bfc"
  },
  "kernelspec": {
   "display_name": "Python 3.11.4 ('base')",
   "language": "python",
   "name": "python3"
  },
  "language_info": {
   "codemirror_mode": {
    "name": "ipython",
    "version": 3
   },
   "file_extension": ".py",
   "mimetype": "text/x-python",
   "name": "python",
   "nbconvert_exporter": "python",
   "pygments_lexer": "ipython3",
   "version": "3.11.5"
  },
  "orig_nbformat": 4
 },
 "nbformat": 4,
 "nbformat_minor": 2
}
