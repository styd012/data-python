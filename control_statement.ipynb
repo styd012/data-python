{
 "cells": [
  {
   "cell_type": "markdown",
   "metadata": {},
   "source": [
    "conditions\n"
   ]
  },
  {
   "cell_type": "code",
   "execution_count": 2,
   "metadata": {},
   "outputs": [
    {
     "name": "stdout",
     "output_type": "stream",
     "text": [
      "the end\n"
     ]
    }
   ],
   "source": [
    "a = int(input (\"Enter number\"))\n",
    "if a % 7 == 0:\n",
    "    print('divisible by 7')\n",
    "    print('hurray')\n",
    "print('the end')"
   ]
  },
  {
   "cell_type": "code",
   "execution_count": 4,
   "metadata": {},
   "outputs": [
    {
     "name": "stdout",
     "output_type": "stream",
     "text": [
      "password is too short\n"
     ]
    }
   ],
   "source": [
    "pwd = input(\"Enter password\")\n",
    "if len(pwd) >= 8:\n",
    "    print('password is ok')\n",
    "else:\n",
    "    print('password is too short')"
   ]
  },
  {
   "cell_type": "code",
   "execution_count": 6,
   "metadata": {},
   "outputs": [
    {
     "name": "stdout",
     "output_type": "stream",
     "text": [
      "your report\n",
      "percentage: 13.33%\n",
      "grade: F\n"
     ]
    }
   ],
   "source": [
    "marks = int(input('Enter mark'))\n",
    "total = 600\n",
    "pct = marks / total * 100\n",
    "if pct >= 90:\n",
    "    grade = 'A'\n",
    "elif pct >= 75:\n",
    "    grade = 'B'\n",
    "elif pct >= 60:\n",
    "    grade = 'c'\n",
    "elif pct >= 40:\n",
    "    grade = 'D'\n",
    "else:\n",
    "    grade = 'F'\n",
    "print(f'your report')\n",
    "print(f'percentage: {pct:.2f}%')\n",
    "print(f'grade: {grade}')        "
   ]
  },
  {
   "cell_type": "code",
   "execution_count": 7,
   "metadata": {},
   "outputs": [
    {
     "name": "stdout",
     "output_type": "stream",
     "text": [
      "what is the square root of 16?\n",
      "Incorrect\n"
     ]
    }
   ],
   "source": [
    "print(\"what is the square root of 16?\")\n",
    "ans = int(input(\"Answer\"))\n",
    "match ans:\n",
    "    case 2: print('Incorrect')\n",
    "    case 4: print('correct')\n",
    "    case _: print('This is absurd')"
   ]
  },
  {
   "cell_type": "markdown",
   "metadata": {},
   "source": [
    "LOOPS\n",
    " 🔘for loop - iteration based\n",
    " 🔘while loop - condition based \n",
    "for loop syt\n",
    "for item in iterable:\n",
    "statement 1\n",
    "    .....\n",
    "    satement n"
   ]
  },
  {
   "cell_type": "code",
   "execution_count": 1,
   "metadata": {},
   "outputs": [
    {
     "name": "stdout",
     "output_type": "stream",
     "text": [
      "the gofather\n",
      "the shawshank redemptionpulp Fiction\n",
      "the Dark knight\n"
     ]
    }
   ],
   "source": [
    "movies = ['the gofather', 'the shawshank redemption'\n",
    "          'pulp Fiction', 'the Dark knight']\n",
    "for movie in movies:\n",
    "    print(movie)"
   ]
  },
  {
   "cell_type": "code",
   "execution_count": 2,
   "metadata": {},
   "outputs": [
    {
     "name": "stdout",
     "output_type": "stream",
     "text": [
      "100\n",
      "101\n",
      "102\n",
      "103\n",
      "104\n",
      "105\n",
      "106\n",
      "107\n",
      "108\n",
      "109\n"
     ]
    }
   ],
   "source": [
    "for i in range(100, 110):\n",
    "    print(i)\n",
    "\n"
   ]
  },
  {
   "cell_type": "code",
   "execution_count": 5,
   "metadata": {},
   "outputs": [
    {
     "name": "stdout",
     "output_type": "stream",
     "text": [
      "10\n",
      "9\n",
      "8\n",
      "7\n",
      "6\n",
      "5\n",
      "4\n",
      "3\n",
      "2\n",
      "1\n"
     ]
    }
   ],
   "source": [
    "for a in range(10,0, -1):\n",
    "    print(a)\n"
   ]
  },
  {
   "cell_type": "code",
   "execution_count": 6,
   "metadata": {},
   "outputs": [
    {
     "name": "stdout",
     "output_type": "stream",
     "text": [
      "2450\n"
     ]
    }
   ],
   "source": [
    "# sum of all even number from 0 to 100\n",
    "total = 0\n",
    "for i in  range(0,100,2):\n",
    "    total += i\n",
    "print(total)    \n"
   ]
  },
  {
   "cell_type": "code",
   "execution_count": 7,
   "metadata": {},
   "outputs": [
    {
     "data": {
      "text/plain": [
       "2450"
      ]
     },
     "execution_count": 7,
     "metadata": {},
     "output_type": "execute_result"
    }
   ],
   "source": [
    "sum(range(0,100,2)) # sum but pythonic"
   ]
  },
  {
   "cell_type": "code",
   "execution_count": null,
   "metadata": {},
   "outputs": [],
   "source": [
    "# wap to display a factorial of a number "
   ]
  },
  {
   "cell_type": "code",
   "execution_count": 9,
   "metadata": {},
   "outputs": [
    {
     "name": "stdout",
     "output_type": "stream",
     "text": [
      "1\n",
      "2\n",
      "3\n",
      "4\n",
      "5\n",
      "6\n",
      "7\n",
      "8\n",
      "9\n"
     ]
    }
   ],
   "source": [
    "i = 1\n",
    "while i < 10:\n",
    "    print(i)\n",
    "    i+=1"
   ]
  },
  {
   "cell_type": "code",
   "execution_count": 12,
   "metadata": {},
   "outputs": [
    {
     "name": "stdout",
     "output_type": "stream",
     "text": [
      "you need to learn more and increase your IQ\n",
      "you need to learn more and increase your IQ\n",
      "you are not eligible\n"
     ]
    }
   ],
   "source": [
    "while True:\n",
    "    iq = int(input('Enter IQ'))\n",
    "    if iq > 120:\n",
    "        print('you are not eligible')\n",
    "        break\n",
    "    print('you need to learn more and increase your IQ')"
   ]
  }
 ],
 "metadata": {
  "kernelspec": {
   "display_name": "base",
   "language": "python",
   "name": "python3"
  },
  "language_info": {
   "codemirror_mode": {
    "name": "ipython",
    "version": 3
   },
   "file_extension": ".py",
   "mimetype": "text/x-python",
   "name": "python",
   "nbconvert_exporter": "python",
   "pygments_lexer": "ipython3",
   "version": "3.11.5"
  }
 },
 "nbformat": 4,
 "nbformat_minor": 2
}
